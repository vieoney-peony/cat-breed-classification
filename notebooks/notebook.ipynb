{
 "cells": [
  {
   "cell_type": "code",
   "execution_count": 19,
   "id": "96e29b1a",
   "metadata": {},
   "outputs": [
    {
     "data": {
      "text/plain": [
       "(309, 300, 3)"
      ]
     },
     "execution_count": 19,
     "metadata": {},
     "output_type": "execute_result"
    }
   ],
   "source": [
    "import cv2\n",
    "import numpy as np\n",
    "img = cv2.imread(r\"../data\\raw\\cat-breeds-02\\cat breeds dataset\\cat breeds dataset\\bengal\\15751520_9790.jpg\")\n",
    "img.shape"
   ]
  }
 ],
 "metadata": {
  "kernelspec": {
   "display_name": "cat",
   "language": "python",
   "name": "python3"
  },
  "language_info": {
   "codemirror_mode": {
    "name": "ipython",
    "version": 3
   },
   "file_extension": ".py",
   "mimetype": "text/x-python",
   "name": "python",
   "nbconvert_exporter": "python",
   "pygments_lexer": "ipython3",
   "version": "3.10.18"
  }
 },
 "nbformat": 4,
 "nbformat_minor": 5
}
